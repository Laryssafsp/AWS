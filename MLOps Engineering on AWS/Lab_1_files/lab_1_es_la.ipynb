{
    "cells": [
     {
      "attachments": {},
      "cell_type": "markdown",
      "metadata": {},
      "source": [
       "# Tarea 4: traer su propio contenedor a SageMaker Studio\n",
       "\n",
       "En este cuaderno, creará su propia imagen de Docker y creará un contenedor de procesamiento. Utilizará una clase **ScriptProcessor** del SDK de Python de Amazon SageMaker para ejecutar un script de preprocesamiento de scikit-learn dentro del contenedor. Luego, validará los resultados del procesamiento de datos que se guardan en Amazon Simple Storage Service (Amazon S3)."
      ]
     },
     {
      "attachments": {},
      "cell_type": "markdown",
      "metadata": {},
      "source": [
       "## Tarea 4.1: configuración del entorno\n",
       "\n",
       "Instale las bibliotecas y las dependencias requeridas.\n",
       "\n",
       "Configure un bucket de Amazon S3 para almacenar las salidas del trabajo de procesamiento y, además, obtenga el rol de ejecución para ejecutar el trabajo de procesamiento de SageMaker."
      ]
     },
     {
      "cell_type": "code",
      "execution_count": null,
      "metadata": {},
      "outputs": [],
      "source": [
       "%%capture\n",
       "\n",
       "# add csv visualization and image-build packages\n",
       "%pip install --upgrade sagemaker-datawrangler\n",
       "%pip install sagemaker-studio-image-build \n",
       "%pip install --upgrade pandas"
      ]
     },
     {
      "cell_type": "code",
      "execution_count": null,
      "metadata": {},
      "outputs": [],
      "source": [
       "#install-dependencies\n",
       "import logging\n",
       "import boto3\n",
       "import sagemaker\n",
       "import pandas as pd\n",
       "import numpy as np\n",
       "import sagemaker_datawrangler\n",
       "from sagemaker.s3 import S3Downloader\n",
       "\n",
       "sagemaker_logger = logging.getLogger(\"sagemaker\")\n",
       "sagemaker_logger.setLevel(logging.INFO)\n",
       "sagemaker_logger.addHandler(logging.StreamHandler())\n",
       "\n",
       "sagemaker_session = sagemaker.Session()\n",
       "\n",
       "#Execution role to run the SageMaker Processing job\n",
       "role = sagemaker.get_execution_role()\n",
       "print(\"SageMaker Execution Role: \", role)\n",
       "\n",
       "#S3 bucket to read the SKLearn processing script and writing processing job outputs\n",
       "s3 = boto3.resource('s3')\n",
       "for buckets in s3.buckets.all():\n",
       "    if 'databucket' in buckets.name:\n",
       "        bucket = buckets.name\n",
       "print(\"Bucket: \", bucket)\n",
       "\n",
       "prefix = 'scripts/data'\n",
       "S3Downloader.download(s3_uri=f\"s3://{bucket}/{prefix}/abalone_data.csv\", local_path= 'data/')"
      ]
     },
     {
      "attachments": {},
      "cell_type": "markdown",
      "metadata": {},
      "source": [
       "## Tarea 4.2: creación de un contenedor de procesamiento\n",
       "\n",
       "Defina y cree un contenedor de scikit-learn con el Dockerfile."
      ]
     },
     {
      "attachments": {},
      "cell_type": "markdown",
      "metadata": {},
      "source": [
       "### Tarea 4.2.1: creación de un Dockerfile\n",
       "\n",
       "Cree un directorio de Docker y agregue el Dockerfile que crea el contenedor de procesamiento. Como está creando un contenedor de scikit-learn, instala pandas y scikit-learn."
      ]
     },
     {
      "cell_type": "code",
      "execution_count": null,
      "metadata": {},
      "outputs": [],
      "source": [
       "%mkdir docker"
      ]
     },
     {
      "cell_type": "code",
      "execution_count": null,
      "metadata": {},
      "outputs": [],
      "source": [
       "%%writefile docker/Dockerfile\n",
       "FROM public.ecr.aws/docker/library/python:3.10-slim-bullseye\n",
       "\n",
       "RUN pip3 install pandas scikit-learn\n",
       "ENV PYTHONUNBUFFERED=TRUE\n",
       "\n",
       "ENTRYPOINT [\"python3\"]"
      ]
     },
     {
      "attachments": {},
      "cell_type": "markdown",
      "metadata": {},
      "source": [
       "### Tarea 4.2.2: creación de la imagen del contenedor\n",
       "\n",
       "Cree una imagen del contenedor personalizada con la interfaz de la línea de comandos (CLI) para la creación de imágenes de Amazon SageMaker Studio.\n",
       "\n",
       "Cuando usa la CLI para la creación de imágenes de Amazon SageMaker Studio, puede crear imágenes de Docker compatibles con Amazon SageMaker directamente desde sus entornos de SageMaker Studio. El uso de la CLI para la creación de imágenes ayuda a ahorrar tiempo y a aumentar la seguridad, ya que abstrae la creación del entorno de creación y requiere menos permisos.\n",
       "\n",
       "Navegue hasta el directorio que contiene su Dockerfile y ejecute el comando de creación sm-docker. Este comando registra de forma automática la salida de la creación y devuelve el **URI de la imagen** de tu imagen de Docker. Este paso tarda entre 2 y 5 minutos en completarse."
      ]
     },
     {
      "cell_type": "code",
      "execution_count": null,
      "metadata": {},
      "outputs": [],
      "source": [
       "%%sh\n",
       "\n",
       "rm /usr/lib/x86_64-linux-gnu/libstdc++.so.6\n",
       "\n",
       "cp /opt/conda/lib/libstdc++.so.6 /usr/lib/x86_64-linux-gnu/libstdc++.so.6\n",
       "\n",
       "cd docker\n",
       "\n",
       "sm-docker build ."
      ]
     },
     {
      "attachments": {},
      "cell_type": "markdown",
      "metadata": {},
      "source": [
       "Cuando se completa la celda, se devuelve un URI de imagen parecido a *012345678910.dkr.ecr.us-east-1.amazonaws.com/sagemaker-studio-d-vcbyjgmmjzzy:data-scientist-test-user*.\n",
       "\n",
       "1. Copie el **URI de la imagen** y péguelo en el editor de texto que prefiera. \n",
       "\n",
       "Use este **URI de la imagen** para crear una clase **ScriptProcessor**."
      ]
     },
     {
      "attachments": {},
      "cell_type": "markdown",
      "metadata": {},
      "source": [
       "## Tarea 4.3: ejecución del trabajo de procesamiento de SageMaker\n",
       "\n",
       "AnyCompany Consulting trabaja en un proyecto con un grupo de defensa de la naturaleza que estudia la edad del abulón. El abulón es un tipo de molusco o caracol marino. Quieren predecir la edad de los especímenes vivos en lugar de tener que abrir sus caparazones para determinar su edad.\n",
       "\n",
       "El conjunto de datos sobre el abulón representa una población de más de 4000 abulones. El conjunto de datos incluye columnas para el sexo, la longitud, el diámetro, la altura, el peso entero, el peso descascarillado, el peso de las vísceras, el peso de la cáscara y los anillos.\n",
       "\n",
       "Ejecute un trabajo de procesamiento en el conjunto de datos sobre el abulón."
      ]
     },
     {
      "cell_type": "code",
      "execution_count": null,
      "metadata": {},
      "outputs": [],
      "source": [
       "#import-data\n",
       "shape=pd.read_csv(\"data/abalone_data.csv\", header=0)\n",
       "shape.sample(5)"
      ]
     },
     {
      "attachments": {},
      "cell_type": "markdown",
      "metadata": {},
      "source": [
       "Luego, use la clase ScriptProcessor de SageMaker para definir y ejecutar un script de procesamiento como un trabajo de procesamiento. Consulte [ScriptProcessor de SageMaker](https://sagemaker.readthedocs.io/en/stable/api/training/processing.html#sagemaker.processing.ScriptProcessor) para obtener más información sobre esta clase.\n",
       "\n",
       "Para crear la clase ScriptProcessor, configure los siguientes parámetros:\n",
       "- **base_job_name**: prefijo para el nombre del trabajo de procesamiento\n",
       "- **command**: comando para ejecutar, además de cualquier marcador de la línea de comandos\n",
       "- **image_uri**: URI de la imagen de Docker para usarlo para los trabajos de procesamiento\n",
       "- **role**: rol de ejecución de SageMaker\n",
       "- **instance_count**: cantidad de instancias para ejecutar el trabajo de procesamiento\n",
       "- **instance_type**: tipo de instancia de Amazon Elastic Compute Cloud (Amazon EC2) que se usa para el trabajo de procesamiento\n",
       "\n",
       "1. En el siguiente código, reemplace **REPLACE_IMAGE_URI** con el URI de su editor de texto."
      ]
     },
     {
      "cell_type": "code",
      "execution_count": null,
      "metadata": {},
      "outputs": [],
      "source": [
       "#sagemaker-script-processor\n",
       "from sagemaker.processing import ScriptProcessor\n",
       "\n",
       "# create a ScriptProcessor\n",
       "script_processor = ScriptProcessor(\n",
       "    base_job_name=\"own-processing-container\",\n",
       "    command=[\"python3\"],\n",
       "    image_uri=\"REPLACE_IMAGE_URI\",\n",
       "    role=role,\n",
       "    instance_count=1,\n",
       "    instance_type=\"ml.m5.xlarge\",\n",
       ")"
      ]
     },
     {
      "attachments": {},
      "cell_type": "markdown",
      "metadata": {},
      "source": [
       "A continuación, use el método ScriptProcessor.run() para ejecutar el script **sklearn_preprocessing.py** como un trabajo de procesamiento. Consulte [ScriptProcessor.run()](https://sagemaker.readthedocs.io/en/stable/api/training/processing.html#sagemaker.processing.ScriptProcessor.run) para obtener más información sobre esta clase.\n",
       "\n",
       "Para ejecutar el trabajo de procesamiento, configure los siguientes parámetros:\n",
       "- **code**: ruta del script de preprocesamiento \n",
       "- **inputs**: ruta de datos de entrada para el script de preprocesamiento (ubicación de entrada de Amazon S3)\n",
       "- **outputs**: ruta de salida para el script de preprocesamiento (ubicación de salida de Amazon S3)\n",
       "- **arguments**: argumentos de línea de comandos para el script de preprocesamiento (como una relación de división para entrenamiento y prueba)\n",
       "\n",
       "El tiempo para completar este trabajo de procesamiento es de aproximadamente 4 a 5 minutos."
      ]
     },
     {
      "cell_type": "code",
      "execution_count": null,
      "metadata": {},
      "outputs": [],
      "source": [
       "#processing-job\n",
       "import os\n",
       "from sagemaker.processing import ProcessingInput, ProcessingOutput\n",
       "\n",
       "# Amazon S3 path prefix\n",
       "input_raw_data_prefix = \"scripts/data\"\n",
       "output_preprocessed_data_prefix = \"scripts/data/output\"\n",
       "scripts_prefix = \"scripts/smstudiofiles\"\n",
       "logs_prefix = \"logs\"\n",
       "\n",
       "# Run the processing job\n",
       "script_processor.run(\n",
       "    code=\"s3://\" + os.path.join(bucket, scripts_prefix, \"sklearn_preprocessing.py\"),\n",
       "    inputs=[ProcessingInput(source=\"s3://\" + os.path.join(bucket, input_raw_data_prefix, \"abalone_data.csv\"),\n",
       "                            destination=\"/opt/ml/processing/input\")],\n",
       "    outputs=[\n",
       "        ProcessingOutput(output_name=\"train_data\", \n",
       "                        source=\"/opt/ml/processing/train\",\n",
       "                        destination=\"s3://\" + os.path.join(bucket, output_preprocessed_data_prefix, \"train\")),\n",
       "        ProcessingOutput(output_name=\"test_data\", \n",
       "                        source=\"/opt/ml/processing/test\",\n",
       "                        destination=\"s3://\" + os.path.join(bucket, output_preprocessed_data_prefix, \"test\")),\n",
       "    ],\n",
       "    arguments=[\"--train-test-split-ratio\", \"0.2\"],\n",
       ")\n",
       "script_processor_job_description = script_processor.jobs[-1].describe()\n",
       "print(script_processor_job_description)"
      ]
     },
     {
      "attachments": {},
      "cell_type": "markdown",
      "metadata": {},
      "source": [
       "## Tarea 4.4: validación de los resultados del procesamiento de datos\n",
       "\n",
       "Valide la salida del trabajo de procesamiento que ejecutó mediante la observación de las primeras cinco filas de los conjuntos de datos de salida de entrenamiento y prueba."
      ]
     },
     {
      "cell_type": "code",
      "execution_count": null,
      "metadata": {},
      "outputs": [],
      "source": [
       "#view-train-dataset\n",
       "print(\"Top 5 rows from s3://{}/{}/train/\".format(bucket, output_preprocessed_data_prefix))\n",
       "!aws s3 cp --quiet s3://$bucket/$output_preprocessed_data_prefix/train/train_features.csv - | head -n5"
      ]
     },
     {
      "cell_type": "code",
      "execution_count": null,
      "metadata": {},
      "outputs": [],
      "source": [
       "#view-validation-dataset\n",
       "print(\"Top 5 rows from s3://{}/{}/validation/\".format(bucket, output_preprocessed_data_prefix))\n",
       "!aws s3 cp --quiet s3://$bucket/$output_preprocessed_data_prefix/test/test_features.csv - | head -n5"
      ]
     },
     {
      "attachments": {},
      "cell_type": "markdown",
      "metadata": {},
      "source": [
       "Cuando las celdas se completan, se devuelven respuestas parecidas a la siguiente salida:\n",
       "\n",
       "```plain\n",
       "Las 5 primeras filas de s3://databucket-us-east-1-xxxxxxx/scripts/data/output/validation/\n",
       "M,0.55,0.425,0.155,0.918,0.278,0.243,0.335\n",
       "I,0.5,0.4,0.12,0.616,0.261,0.143,0.194\n",
       "M,0.62,0.48,0.155,1.256,0.527,0.374,0.318\n",
       "I,0.22,0.165,0.055,0.055,0.022,0.012,0.02\n",
       "M,0.645,0.5,0.175,1.511,0.674,0.376,0.378\n",
       "```\n",
       "\n",
       "Los encabezados de columna del conjunto de datos sobre el abulón son sexo (bebé, macho, hembra), longitud, diámetro, altura, peso_entero, peso_descascarillado, peso_vísceras, peso_cáscara y anillos. La salida de las carpetas **train/** y **validation/** muestra los datos procesados que se almacenan en el bucket de S3."
      ]
     },
     {
      "attachments": {},
      "cell_type": "markdown",
      "metadata": {},
      "source": [
       "Logró crear su propio contenedor de procesamiento y usó SageMaker Processing para ejecutar el trabajo de procesamiento en ese contenedor personalizado.\n",
       "\n",
       "### Limpieza\n",
       "\n",
       "Ha completado este cuaderno. Para ir a la siguiente parte del laboratorio, complete estos pasos:\n",
       "\n",
       "- Cierre este archivo de cuaderno.\n",
       "- Regrese a la sesión de laboratorio y continúe con la **Conclusión**."
      ]
     }
    ],
    "metadata": {
     "instance_type": "ml.t3.medium",
     "kernelspec": {
      "display_name": "Python 3",
      "language": "python",
      "name": "python3"
     },
     "language_info": {
      "codemirror_mode": {
       "name": "ipython",
       "version": 3
      },
      "file_extension": ".py",
      "mimetype": "text/x-python",
      "name": "python",
      "nbconvert_exporter": "python",
      "pygments_lexer": "ipython3",
      "version": "3.9.6"
     },
     "vscode": {
      "interpreter": {
       "hash": "741de909edea0d5644898c592544ed98bede62b404d20772e5c4abc3c2f12566"
      }
     }
    },
    "nbformat": 4,
    "nbformat_minor": 4
   }
